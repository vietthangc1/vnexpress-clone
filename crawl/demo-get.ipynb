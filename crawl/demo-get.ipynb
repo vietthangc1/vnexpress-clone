{
 "cells": [
  {
   "cell_type": "code",
   "execution_count": 3,
   "metadata": {},
   "outputs": [
    {
     "name": "stdout",
     "output_type": "stream",
     "text": [
      "- Finish importing packages\n"
     ]
    }
   ],
   "source": [
    "from selenium import webdriver\n",
    "from selenium.webdriver.common.keys import Keys\n",
    "from selenium.webdriver.firefox.options import Options\n",
    "from bs4 import BeautifulSoup\n",
    "from time import sleep\n",
    "import csv\n",
    "import pandas as pd\n",
    "import re\n",
    "from selenium.webdriver.common.by import By\n",
    "from selenium.webdriver.support.ui import Select\n",
    "import requests\n",
    "\n",
    "print('- Finish importing packages')"
   ]
  },
  {
   "cell_type": "code",
   "execution_count": 32,
   "metadata": {},
   "outputs": [
    {
     "name": "stdout",
     "output_type": "stream",
     "text": [
      "- Finish initializing a driver\n"
     ]
    }
   ],
   "source": [
    "options = Options()\n",
    "options.binary_location = r'C:\\Program Files\\Mozilla Firefox\\firefox.exe'\n",
    "driver = webdriver.Firefox(options=options)\n",
    "# driver = webdriver.Chrome()\n",
    "driver.get('https://vnexpress.net/')\n",
    "sleep(1)\n",
    "print('- Finish initializing a driver')"
   ]
  },
  {
   "cell_type": "code",
   "execution_count": 33,
   "metadata": {},
   "outputs": [],
   "source": [
    "page_source = BeautifulSoup(driver.page_source)\n",
    "list_elements = page_source.find_all('h3', class_ = \"title-news\")\n",
    "list_links = [e.find('a').get('href') for e in list_elements]"
   ]
  },
  {
   "cell_type": "code",
   "execution_count": 38,
   "metadata": {},
   "outputs": [],
   "source": [
    "lst_dic = []\n",
    "\n",
    "for link in list_links:\n",
    "  \n",
    "  driver.get(link)\n",
    "  article_html = BeautifulSoup(driver.page_source)\n",
    "  try:\n",
    "    title = article_html.find_all('h1', class_ = 'title-detail')[0].get_text()\n",
    "  except:\n",
    "    title = \"Unknown\"\n",
    "\n",
    "  try:\n",
    "    date = article_html.find_all('span', class_ = 'date')[0].get_text()\n",
    "  except:\n",
    "    date = \"\"\n",
    "\n",
    "  author_list = article_html.find_all('p', class_ = 'author_mail')\n",
    "  \n",
    "  try:\n",
    "    if len(author_list) != 0:\n",
    "      author = author_list[0].get_text()\n",
    "    else:\n",
    "      author = article_html.find_all('h3', class_ = 'title-news')[0].get_text()\n",
    "  except:\n",
    "    author = \"Unknown\"\n",
    "\n",
    "  try:\n",
    "    lst_content = [e.get_text() for e in article_html.find('article', class_ = 'fck_detail').findAll('p', class_ = \"Normal\")]\n",
    "    content = \"\\n\".join(lst_content)\n",
    "  except:\n",
    "    content = \"\"\n",
    "\n",
    "  try:\n",
    "    list_img_links = [e.get('src') for e in article_html.find('article', class_ = 'fck_detail').findAll('img') if e.get('src').startswith(\"https\")]\n",
    "  except:\n",
    "    list_img_links = []\n",
    "\n",
    "  dic = {\n",
    "    \"title\": title,\n",
    "    \"date\": date,\n",
    "    \"author\": author,\n",
    "    \"content\": content,\n",
    "    \"imgs\": list_img_links\n",
    "  }\n",
    "\n",
    "  lst_dic.append(dic)"
   ]
  },
  {
   "cell_type": "code",
   "execution_count": 43,
   "metadata": {},
   "outputs": [
    {
     "data": {
      "text/plain": [
       "60"
      ]
     },
     "execution_count": 43,
     "metadata": {},
     "output_type": "execute_result"
    }
   ],
   "source": [
    "len(lst_dic)"
   ]
  },
  {
   "cell_type": "code",
   "execution_count": 49,
   "metadata": {},
   "outputs": [],
   "source": [
    "# import urllib\n",
    "# from pymongo import MongoClient\n",
    "# client = MongoClient(\"mongodb+srv://vietthangc1:\"+urllib.parse.quote_plus('f2bdx@*-uLAZz!f')+\"@cluster0.le7ea.mongodb.net/test\")\n",
    "# db = client.vnexpress\n",
    "\n",
    "import json\n",
    "f = open(\"../app/data/article.json\", 'w', encoding='utf-8')\n",
    "json.dump(lst_dic, f)\n",
    "f.close()"
   ]
  }
 ],
 "metadata": {
  "kernelspec": {
   "display_name": "Python 3.8.5 ('base')",
   "language": "python",
   "name": "python3"
  },
  "language_info": {
   "codemirror_mode": {
    "name": "ipython",
    "version": 3
   },
   "file_extension": ".py",
   "mimetype": "text/x-python",
   "name": "python",
   "nbconvert_exporter": "python",
   "pygments_lexer": "ipython3",
   "version": "3.8.5"
  },
  "orig_nbformat": 2,
  "vscode": {
   "interpreter": {
    "hash": "bd1113773038e2197cf35154ae4973cac36e5bcf43954b08a0bfdb5126e1bd42"
   }
  }
 },
 "nbformat": 4,
 "nbformat_minor": 2
}
